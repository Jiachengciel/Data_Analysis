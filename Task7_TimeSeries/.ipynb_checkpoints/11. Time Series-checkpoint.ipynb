{
 "cells": [
  {
   "cell_type": "markdown",
   "metadata": {},
   "source": [
    "# Time Series\n",
    "\n",
    "---\n",
    "\n",
    "Created on 2019-05-24\n",
    "\n",
    "Update on 2019-05-24\n",
    "\n",
    "Author: Jiacheng\n",
    "\n",
    "Github: https://github.com/Jiachengciel/Data_Analysis\n",
    "\n",
    "---"
   ]
  },
  {
   "cell_type": "code",
   "execution_count": 2,
   "metadata": {},
   "outputs": [],
   "source": [
    "import numpy as np\n",
    "import pandas as pd\n",
    "import matplotlib.pyplot as plt\n",
    "from datetime import datetime\n",
    "%matplotlib notebook"
   ]
  },
  {
   "cell_type": "markdown",
   "metadata": {},
   "source": [
    "---\n",
    "\n",
    "## 1. Date and Time Data Types and Tools\n",
    "## 日期和时间数据类型及工具"
   ]
  },
  {
   "cell_type": "code",
   "execution_count": 3,
   "metadata": {},
   "outputs": [
    {
     "data": {
      "text/plain": [
       "datetime.datetime(2019, 5, 24, 20, 34, 55, 375004)"
      ]
     },
     "execution_count": 3,
     "metadata": {},
     "output_type": "execute_result"
    }
   ],
   "source": [
    "now = datetime.now()\n",
    "now"
   ]
  },
  {
   "cell_type": "code",
   "execution_count": 8,
   "metadata": {},
   "outputs": [
    {
     "data": {
      "text/plain": [
       "(2019, 5, 24)"
      ]
     },
     "execution_count": 8,
     "metadata": {},
     "output_type": "execute_result"
    }
   ],
   "source": [
    "now.year, now.month, now.day"
   ]
  },
  {
   "cell_type": "code",
   "execution_count": 14,
   "metadata": {},
   "outputs": [
    {
     "data": {
      "text/plain": [
       "datetime.timedelta(31, 41400)"
      ]
     },
     "execution_count": 14,
     "metadata": {},
     "output_type": "execute_result"
    }
   ],
   "source": [
    "delta = datetime(2019,10,16) - datetime(2019,9,14,12,30)\n",
    "delta"
   ]
  },
  {
   "cell_type": "code",
   "execution_count": 15,
   "metadata": {},
   "outputs": [
    {
     "data": {
      "text/plain": [
       "31"
      ]
     },
     "execution_count": 15,
     "metadata": {},
     "output_type": "execute_result"
    }
   ],
   "source": [
    "delta.days"
   ]
  },
  {
   "cell_type": "code",
   "execution_count": 16,
   "metadata": {},
   "outputs": [
    {
     "data": {
      "text/plain": [
       "41400"
      ]
     },
     "execution_count": 16,
     "metadata": {},
     "output_type": "execute_result"
    }
   ],
   "source": [
    "delta.seconds"
   ]
  },
  {
   "cell_type": "code",
   "execution_count": 17,
   "metadata": {},
   "outputs": [],
   "source": [
    "from datetime import timedelta"
   ]
  },
  {
   "cell_type": "code",
   "execution_count": 18,
   "metadata": {},
   "outputs": [
    {
     "data": {
      "text/plain": [
       "datetime.datetime(2019, 6, 3, 0, 0)"
      ]
     },
     "execution_count": 18,
     "metadata": {},
     "output_type": "execute_result"
    }
   ],
   "source": [
    "start = datetime(2019,5,22)\n",
    "start + timedelta(12)"
   ]
  },
  {
   "cell_type": "code",
   "execution_count": 19,
   "metadata": {},
   "outputs": [
    {
     "data": {
      "text/plain": [
       "datetime.datetime(2019, 5, 14, 0, 0)"
      ]
     },
     "execution_count": 19,
     "metadata": {},
     "output_type": "execute_result"
    }
   ],
   "source": [
    "start - 2*timedelta(4)"
   ]
  },
  {
   "cell_type": "markdown",
   "metadata": {},
   "source": [
    "* ### 字符串和datetime的相互转换"
   ]
  },
  {
   "cell_type": "code",
   "execution_count": 23,
   "metadata": {},
   "outputs": [
    {
     "data": {
      "text/plain": [
       "'2019-05-24 21:53:22'"
      ]
     },
     "execution_count": 23,
     "metadata": {},
     "output_type": "execute_result"
    }
   ],
   "source": [
    "stamp = datetime(2019,5,24,21,53,22)\n",
    "str(stamp)"
   ]
  },
  {
   "cell_type": "code",
   "execution_count": 25,
   "metadata": {},
   "outputs": [
    {
     "data": {
      "text/plain": [
       "'2019-05-24, week:5'"
      ]
     },
     "execution_count": 25,
     "metadata": {},
     "output_type": "execute_result"
    }
   ],
   "source": [
    "# 将时间转为字符串\n",
    "stamp.strftime('%Y-%m-%d, :%w')"
   ]
  },
  {
   "cell_type": "code",
   "execution_count": 29,
   "metadata": {},
   "outputs": [
    {
     "data": {
      "text/plain": [
       "datetime.datetime(2019, 5, 24, 21, 23, 22)"
      ]
     },
     "execution_count": 29,
     "metadata": {},
     "output_type": "execute_result"
    }
   ],
   "source": [
    "# 将字符串转为时间\n",
    "value = '2019-05-24 21:23:22'\n",
    "datetime.strptime(value, \"%Y-%m-%d %H:%M:%S\")"
   ]
  },
  {
   "cell_type": "code",
   "execution_count": 30,
   "metadata": {},
   "outputs": [],
   "source": [
    "datestrs = ['7/7/2022', '6/4/2033']"
   ]
  },
  {
   "cell_type": "code",
   "execution_count": 31,
   "metadata": {},
   "outputs": [
    {
     "data": {
      "text/plain": [
       "[datetime.datetime(2022, 7, 7, 0, 0), datetime.datetime(2033, 6, 4, 0, 0)]"
      ]
     },
     "execution_count": 31,
     "metadata": {},
     "output_type": "execute_result"
    }
   ],
   "source": [
    "[datetime.strptime(x, '%m/%d/%Y') for x in datestrs]"
   ]
  },
  {
   "cell_type": "code",
   "execution_count": 32,
   "metadata": {},
   "outputs": [],
   "source": [
    "from dateutil.parser import parse"
   ]
  },
  {
   "cell_type": "code",
   "execution_count": 33,
   "metadata": {},
   "outputs": [
    {
     "data": {
      "text/plain": [
       "datetime.datetime(2019, 5, 24, 21, 23, 22)"
      ]
     },
     "execution_count": 33,
     "metadata": {},
     "output_type": "execute_result"
    }
   ],
   "source": [
    "parse(value)"
   ]
  },
  {
   "cell_type": "code",
   "execution_count": 35,
   "metadata": {},
   "outputs": [
    {
     "data": {
      "text/plain": [
       "datetime.datetime(2022, 7, 7, 0, 0)"
      ]
     },
     "execution_count": 35,
     "metadata": {},
     "output_type": "execute_result"
    }
   ],
   "source": [
    "parse(datestrs[0])"
   ]
  },
  {
   "cell_type": "code",
   "execution_count": 36,
   "metadata": {},
   "outputs": [
    {
     "data": {
      "text/plain": [
       "datetime.datetime(1997, 1, 31, 22, 45)"
      ]
     },
     "execution_count": 36,
     "metadata": {},
     "output_type": "execute_result"
    }
   ],
   "source": [
    "parse('Jan 31, 1997 10:45 PM')"
   ]
  },
  {
   "cell_type": "code",
   "execution_count": 37,
   "metadata": {},
   "outputs": [
    {
     "data": {
      "text/plain": [
       "datetime.datetime(2012, 12, 6, 0, 0)"
      ]
     },
     "execution_count": 37,
     "metadata": {},
     "output_type": "execute_result"
    }
   ],
   "source": [
    "# 法语时间转换 (日在前)\n",
    "parse('6/12/2012', dayfirst=True)"
   ]
  },
  {
   "cell_type": "code",
   "execution_count": 38,
   "metadata": {},
   "outputs": [
    {
     "data": {
      "text/plain": [
       "DatetimeIndex(['2022-07-07', '2033-06-04'], dtype='datetime64[ns]', freq=None)"
      ]
     },
     "execution_count": 38,
     "metadata": {},
     "output_type": "execute_result"
    }
   ],
   "source": [
    "pd.to_datetime(datestrs)"
   ]
  },
  {
   "cell_type": "code",
   "execution_count": 40,
   "metadata": {},
   "outputs": [
    {
     "data": {
      "text/plain": [
       "DatetimeIndex(['2022-07-07', '2033-06-04', 'NaT'], dtype='datetime64[ns]', freq=None)"
      ]
     },
     "execution_count": 40,
     "metadata": {},
     "output_type": "execute_result"
    }
   ],
   "source": [
    "# 可以处理缺失值（None、空字符串等）\n",
    "idx = pd.to_datetime(datestrs + [None])\n",
    "idx"
   ]
  },
  {
   "cell_type": "code",
   "execution_count": 41,
   "metadata": {},
   "outputs": [
    {
     "data": {
      "text/plain": [
       "array([False, False,  True])"
      ]
     },
     "execution_count": 41,
     "metadata": {},
     "output_type": "execute_result"
    }
   ],
   "source": [
    "pd.isnull(idx)"
   ]
  },
  {
   "cell_type": "markdown",
   "metadata": {},
   "source": [
    "---\n",
    "\n",
    "## 2. Time Series Basics\n",
    "## 时间序列基础"
   ]
  },
  {
   "cell_type": "code",
   "execution_count": 42,
   "metadata": {},
   "outputs": [],
   "source": [
    "dates = [datetime(2011, 1, 2), datetime(2011, 1, 5),\n",
    "         datetime(2011, 1, 7), datetime(2011, 1, 8),\n",
    "         datetime(2011, 1, 10), datetime(2011, 1, 12)]"
   ]
  },
  {
   "cell_type": "code",
   "execution_count": 44,
   "metadata": {},
   "outputs": [
    {
     "data": {
      "text/plain": [
       "2011-01-02   -0.749213\n",
       "2011-01-05   -1.251453\n",
       "2011-01-07    0.260048\n",
       "2011-01-08   -1.209823\n",
       "2011-01-10    0.966039\n",
       "2011-01-12    0.577342\n",
       "dtype: float64"
      ]
     },
     "execution_count": 44,
     "metadata": {},
     "output_type": "execute_result"
    }
   ],
   "source": [
    "ts = pd.Series(np.random.randn(6), index=dates)\n",
    "ts"
   ]
  },
  {
   "cell_type": "code",
   "execution_count": 45,
   "metadata": {},
   "outputs": [
    {
     "data": {
      "text/plain": [
       "DatetimeIndex(['2011-01-02', '2011-01-05', '2011-01-07', '2011-01-08',\n",
       "               '2011-01-10', '2011-01-12'],\n",
       "              dtype='datetime64[ns]', freq=None)"
      ]
     },
     "execution_count": 45,
     "metadata": {},
     "output_type": "execute_result"
    }
   ],
   "source": [
    "ts.index"
   ]
  },
  {
   "cell_type": "code",
   "execution_count": 46,
   "metadata": {},
   "outputs": [
    {
     "data": {
      "text/plain": [
       "2011-01-02   -1.498427\n",
       "2011-01-05         NaN\n",
       "2011-01-07    0.520097\n",
       "2011-01-08         NaN\n",
       "2011-01-10    1.932077\n",
       "2011-01-12         NaN\n",
       "dtype: float64"
      ]
     },
     "execution_count": 46,
     "metadata": {},
     "output_type": "execute_result"
    }
   ],
   "source": [
    "ts + ts[::2]"
   ]
  },
  {
   "cell_type": "code",
   "execution_count": 47,
   "metadata": {},
   "outputs": [
    {
     "data": {
      "text/plain": [
       "2011-01-02   -0.749213\n",
       "2011-01-07    0.260048\n",
       "2011-01-10    0.966039\n",
       "dtype: float64"
      ]
     },
     "execution_count": 47,
     "metadata": {},
     "output_type": "execute_result"
    }
   ],
   "source": [
    "ts[::2]"
   ]
  },
  {
   "cell_type": "code",
   "execution_count": 48,
   "metadata": {},
   "outputs": [
    {
     "data": {
      "text/plain": [
       "dtype('<M8[ns]')"
      ]
     },
     "execution_count": 48,
     "metadata": {},
     "output_type": "execute_result"
    }
   ],
   "source": [
    "# datetime64数据类型以纳秒形式存储时间戳\n",
    "ts.index.dtype"
   ]
  },
  {
   "cell_type": "code",
   "execution_count": 49,
   "metadata": {},
   "outputs": [
    {
     "data": {
      "text/plain": [
       "Timestamp('2011-01-02 00:00:00')"
      ]
     },
     "execution_count": 49,
     "metadata": {},
     "output_type": "execute_result"
    }
   ],
   "source": [
    "stamp = ts.index[0]\n",
    "stamp"
   ]
  },
  {
   "cell_type": "markdown",
   "metadata": {},
   "source": [
    "* ### 索引、选取、子集构造"
   ]
  },
  {
   "cell_type": "code",
   "execution_count": 50,
   "metadata": {},
   "outputs": [
    {
     "data": {
      "text/plain": [
       "-0.7492134699643734"
      ]
     },
     "execution_count": 50,
     "metadata": {},
     "output_type": "execute_result"
    }
   ],
   "source": [
    "ts[stamp]"
   ]
  },
  {
   "cell_type": "code",
   "execution_count": 51,
   "metadata": {},
   "outputs": [
    {
     "data": {
      "text/plain": [
       "0.9660386951090641"
      ]
     },
     "execution_count": 51,
     "metadata": {},
     "output_type": "execute_result"
    }
   ],
   "source": [
    "ts['1/10/2011']"
   ]
  },
  {
   "cell_type": "code",
   "execution_count": 52,
   "metadata": {},
   "outputs": [
    {
     "data": {
      "text/plain": [
       "0.9660386951090641"
      ]
     },
     "execution_count": 52,
     "metadata": {},
     "output_type": "execute_result"
    }
   ],
   "source": [
    "ts['20110110']"
   ]
  },
  {
   "cell_type": "code",
   "execution_count": 53,
   "metadata": {},
   "outputs": [
    {
     "data": {
      "text/plain": [
       "2000-01-01    1.414754\n",
       "2000-01-02   -1.649033\n",
       "2000-01-03    0.370279\n",
       "2000-01-04   -0.017020\n",
       "2000-01-05    1.699716\n",
       "2000-01-06   -0.282524\n",
       "2000-01-07   -1.213512\n",
       "2000-01-08    0.517558\n",
       "2000-01-09   -1.416052\n",
       "2000-01-10    0.970632\n",
       "2000-01-11    1.021684\n",
       "2000-01-12   -0.404504\n",
       "2000-01-13    0.690965\n",
       "2000-01-14    0.122309\n",
       "2000-01-15   -0.110744\n",
       "2000-01-16   -0.509067\n",
       "2000-01-17    0.564909\n",
       "2000-01-18   -0.346988\n",
       "2000-01-19   -1.946213\n",
       "2000-01-20   -0.749713\n",
       "2000-01-21    2.706861\n",
       "2000-01-22    0.267854\n",
       "2000-01-23   -1.725678\n",
       "2000-01-24    1.059867\n",
       "2000-01-25   -1.816758\n",
       "2000-01-26    0.757713\n",
       "2000-01-27    0.408359\n",
       "2000-01-28    0.662216\n",
       "2000-01-29    0.567927\n",
       "2000-01-30   -1.130735\n",
       "                ...   \n",
       "2002-08-28    1.330663\n",
       "2002-08-29   -0.078021\n",
       "2002-08-30    0.678289\n",
       "2002-08-31    0.346193\n",
       "2002-09-01    0.825817\n",
       "2002-09-02   -0.058521\n",
       "2002-09-03    0.321812\n",
       "2002-09-04    0.792513\n",
       "2002-09-05    0.676490\n",
       "2002-09-06   -0.570551\n",
       "2002-09-07   -0.091276\n",
       "2002-09-08   -0.318706\n",
       "2002-09-09    0.277789\n",
       "2002-09-10   -0.735127\n",
       "2002-09-11    1.034695\n",
       "2002-09-12   -0.200908\n",
       "2002-09-13   -1.921794\n",
       "2002-09-14   -0.451305\n",
       "2002-09-15    1.465657\n",
       "2002-09-16   -1.691703\n",
       "2002-09-17   -0.369141\n",
       "2002-09-18   -0.170055\n",
       "2002-09-19   -0.458187\n",
       "2002-09-20    1.562658\n",
       "2002-09-21   -0.741848\n",
       "2002-09-22    0.078580\n",
       "2002-09-23    0.926199\n",
       "2002-09-24    0.825310\n",
       "2002-09-25   -0.787764\n",
       "2002-09-26    0.035514\n",
       "Freq: D, Length: 1000, dtype: float64"
      ]
     },
     "execution_count": 53,
     "metadata": {},
     "output_type": "execute_result"
    }
   ],
   "source": [
    "longer_ts = pd.Series(np.random.randn(1000),\n",
    "                      index=pd.date_range('1/1/2000', periods=1000))\n",
    "longer_ts"
   ]
  },
  {
   "cell_type": "code",
   "execution_count": 54,
   "metadata": {},
   "outputs": [
    {
     "data": {
      "text/plain": [
       "2001-01-01    1.111406\n",
       "2001-01-02    0.915124\n",
       "2001-01-03   -1.192863\n",
       "2001-01-04    0.539039\n",
       "2001-01-05    0.534574\n",
       "2001-01-06   -0.553234\n",
       "2001-01-07   -0.106109\n",
       "2001-01-08   -0.801423\n",
       "2001-01-09    0.665296\n",
       "2001-01-10   -0.591913\n",
       "2001-01-11    1.346858\n",
       "2001-01-12   -1.326738\n",
       "2001-01-13    0.688294\n",
       "2001-01-14   -1.069012\n",
       "2001-01-15   -0.262390\n",
       "2001-01-16    1.002606\n",
       "2001-01-17   -1.036942\n",
       "2001-01-18   -1.676646\n",
       "2001-01-19    2.384419\n",
       "2001-01-20    1.495779\n",
       "2001-01-21    0.708219\n",
       "2001-01-22    1.257924\n",
       "2001-01-23    0.168115\n",
       "2001-01-24    0.361763\n",
       "2001-01-25   -1.878366\n",
       "2001-01-26    1.017998\n",
       "2001-01-27    1.152794\n",
       "2001-01-28    1.164169\n",
       "2001-01-29   -0.594082\n",
       "2001-01-30   -0.004903\n",
       "                ...   \n",
       "2001-12-02    0.753186\n",
       "2001-12-03    0.764384\n",
       "2001-12-04    1.047229\n",
       "2001-12-05    0.633832\n",
       "2001-12-06    0.128939\n",
       "2001-12-07   -0.538282\n",
       "2001-12-08   -1.990220\n",
       "2001-12-09    0.850463\n",
       "2001-12-10   -0.814233\n",
       "2001-12-11    0.765570\n",
       "2001-12-12    0.277187\n",
       "2001-12-13   -0.982946\n",
       "2001-12-14    0.473903\n",
       "2001-12-15    1.105657\n",
       "2001-12-16   -1.193975\n",
       "2001-12-17   -2.227733\n",
       "2001-12-18   -0.358400\n",
       "2001-12-19   -0.641552\n",
       "2001-12-20   -0.399535\n",
       "2001-12-21   -0.007435\n",
       "2001-12-22   -0.058436\n",
       "2001-12-23   -1.871680\n",
       "2001-12-24    0.806075\n",
       "2001-12-25   -1.120771\n",
       "2001-12-26   -0.891243\n",
       "2001-12-27    0.169531\n",
       "2001-12-28   -1.107524\n",
       "2001-12-29    0.244915\n",
       "2001-12-30    0.412509\n",
       "2001-12-31    0.617900\n",
       "Freq: D, Length: 365, dtype: float64"
      ]
     },
     "execution_count": 54,
     "metadata": {},
     "output_type": "execute_result"
    }
   ],
   "source": [
    "longer_ts['2001']"
   ]
  },
  {
   "cell_type": "code",
   "execution_count": 56,
   "metadata": {},
   "outputs": [
    {
     "data": {
      "text/plain": [
       "2001-10-01   -0.074808\n",
       "2001-10-02   -0.895283\n",
       "2001-10-03   -0.424031\n",
       "2001-10-04    1.059479\n",
       "2001-10-05    0.095160\n",
       "2001-10-06   -0.370243\n",
       "2001-10-07   -1.033803\n",
       "2001-10-08    0.299366\n",
       "2001-10-09    1.349765\n",
       "2001-10-10    0.086255\n",
       "2001-10-11   -0.626680\n",
       "2001-10-12   -0.298238\n",
       "2001-10-13   -0.134869\n",
       "2001-10-14   -0.216471\n",
       "2001-10-15   -0.172224\n",
       "2001-10-16    1.829977\n",
       "2001-10-17   -1.319769\n",
       "2001-10-18    1.143113\n",
       "2001-10-19    0.454013\n",
       "2001-10-20   -0.261370\n",
       "2001-10-21   -0.991677\n",
       "2001-10-22    0.255920\n",
       "2001-10-23    0.232754\n",
       "2001-10-24    0.866532\n",
       "2001-10-25    0.786895\n",
       "2001-10-26   -1.158657\n",
       "2001-10-27   -0.648966\n",
       "2001-10-28   -0.044730\n",
       "2001-10-29   -0.286047\n",
       "2001-10-30    0.150069\n",
       "2001-10-31    0.163963\n",
       "Freq: D, dtype: float64"
      ]
     },
     "execution_count": 56,
     "metadata": {},
     "output_type": "execute_result"
    }
   ],
   "source": [
    "longer_ts['2001-10']"
   ]
  },
  {
   "cell_type": "code",
   "execution_count": 57,
   "metadata": {},
   "outputs": [
    {
     "data": {
      "text/plain": [
       "2011-01-07    0.260048\n",
       "2011-01-08   -1.209823\n",
       "2011-01-10    0.966039\n",
       "2011-01-12    0.577342\n",
       "dtype: float64"
      ]
     },
     "execution_count": 57,
     "metadata": {},
     "output_type": "execute_result"
    }
   ],
   "source": [
    "ts['20110107':]"
   ]
  },
  {
   "cell_type": "code",
   "execution_count": 59,
   "metadata": {},
   "outputs": [
    {
     "data": {
      "text/plain": [
       "2011-01-02   -0.749213\n",
       "2011-01-05   -1.251453\n",
       "2011-01-07    0.260048\n",
       "dtype: float64"
      ]
     },
     "execution_count": 59,
     "metadata": {},
     "output_type": "execute_result"
    }
   ],
   "source": [
    "# 除去2011-01-07之后的日期\n",
    "ts.truncate(after='01/07/2011')"
   ]
  },
  {
   "cell_type": "code",
   "execution_count": 60,
   "metadata": {},
   "outputs": [
    {
     "data": {
      "text/html": [
       "<div>\n",
       "<style scoped>\n",
       "    .dataframe tbody tr th:only-of-type {\n",
       "        vertical-align: middle;\n",
       "    }\n",
       "\n",
       "    .dataframe tbody tr th {\n",
       "        vertical-align: top;\n",
       "    }\n",
       "\n",
       "    .dataframe thead th {\n",
       "        text-align: right;\n",
       "    }\n",
       "</style>\n",
       "<table border=\"1\" class=\"dataframe\">\n",
       "  <thead>\n",
       "    <tr style=\"text-align: right;\">\n",
       "      <th></th>\n",
       "      <th>Colorado</th>\n",
       "      <th>Texas</th>\n",
       "      <th>New York</th>\n",
       "      <th>Ohio</th>\n",
       "    </tr>\n",
       "  </thead>\n",
       "  <tbody>\n",
       "    <tr>\n",
       "      <th>2001-05-02</th>\n",
       "      <td>0.752680</td>\n",
       "      <td>0.579645</td>\n",
       "      <td>0.853143</td>\n",
       "      <td>0.381457</td>\n",
       "    </tr>\n",
       "    <tr>\n",
       "      <th>2001-05-09</th>\n",
       "      <td>0.630215</td>\n",
       "      <td>1.023626</td>\n",
       "      <td>-1.126651</td>\n",
       "      <td>-0.824568</td>\n",
       "    </tr>\n",
       "    <tr>\n",
       "      <th>2001-05-16</th>\n",
       "      <td>-1.395418</td>\n",
       "      <td>-0.751142</td>\n",
       "      <td>-0.242988</td>\n",
       "      <td>0.566470</td>\n",
       "    </tr>\n",
       "    <tr>\n",
       "      <th>2001-05-23</th>\n",
       "      <td>0.145933</td>\n",
       "      <td>0.499219</td>\n",
       "      <td>-1.207261</td>\n",
       "      <td>-0.091429</td>\n",
       "    </tr>\n",
       "    <tr>\n",
       "      <th>2001-05-30</th>\n",
       "      <td>0.869496</td>\n",
       "      <td>-0.181453</td>\n",
       "      <td>0.289050</td>\n",
       "      <td>1.649062</td>\n",
       "    </tr>\n",
       "  </tbody>\n",
       "</table>\n",
       "</div>"
      ],
      "text/plain": [
       "            Colorado     Texas  New York      Ohio\n",
       "2001-05-02  0.752680  0.579645  0.853143  0.381457\n",
       "2001-05-09  0.630215  1.023626 -1.126651 -0.824568\n",
       "2001-05-16 -1.395418 -0.751142 -0.242988  0.566470\n",
       "2001-05-23  0.145933  0.499219 -1.207261 -0.091429\n",
       "2001-05-30  0.869496 -0.181453  0.289050  1.649062"
      ]
     },
     "execution_count": 60,
     "metadata": {},
     "output_type": "execute_result"
    }
   ],
   "source": [
    "# 选取星期三\n",
    "dates = pd.date_range('1/1/2000', periods=100, freq='W-WED')\n",
    "long_df = pd.DataFrame(np.random.randn(100, 4),\n",
    "                       index=dates,\n",
    "                       columns=['Colorado', 'Texas',\n",
    "                                'New York', 'Ohio'])\n",
    "long_df.loc['2001-05']"
   ]
  },
  {
   "cell_type": "markdown",
   "metadata": {},
   "source": [
    "* ### 带有重复索引的时间序列"
   ]
  },
  {
   "cell_type": "code",
   "execution_count": 63,
   "metadata": {},
   "outputs": [
    {
     "data": {
      "text/plain": [
       "2000-01-01    0\n",
       "2000-01-02    1\n",
       "2000-01-02    2\n",
       "2000-01-02    3\n",
       "2000-01-03    4\n",
       "dtype: int64"
      ]
     },
     "execution_count": 63,
     "metadata": {},
     "output_type": "execute_result"
    }
   ],
   "source": [
    "dates = pd.DatetimeIndex(['1/1/2000', '1/2/2000', '1/2/2000',\n",
    "                          '1/2/2000', '1/3/2000'])\n",
    "dup_ts = pd.Series(np.arange(5), index=dates)\n",
    "dup_ts"
   ]
  },
  {
   "cell_type": "code",
   "execution_count": 64,
   "metadata": {},
   "outputs": [
    {
     "data": {
      "text/plain": [
       "False"
      ]
     },
     "execution_count": 64,
     "metadata": {},
     "output_type": "execute_result"
    }
   ],
   "source": [
    "dup_ts.index.is_unique"
   ]
  },
  {
   "cell_type": "code",
   "execution_count": 65,
   "metadata": {},
   "outputs": [
    {
     "data": {
      "text/plain": [
       "4"
      ]
     },
     "execution_count": 65,
     "metadata": {},
     "output_type": "execute_result"
    }
   ],
   "source": [
    "# 对这个时间序列进行索引，要么产生标量值，要么产生切片\n",
    "dup_ts['1/3/2000']"
   ]
  },
  {
   "cell_type": "code",
   "execution_count": 66,
   "metadata": {},
   "outputs": [
    {
     "data": {
      "text/plain": [
       "2000-01-02    1\n",
       "2000-01-02    2\n",
       "2000-01-02    3\n",
       "dtype: int64"
      ]
     },
     "execution_count": 66,
     "metadata": {},
     "output_type": "execute_result"
    }
   ],
   "source": [
    "dup_ts['1/2/2000']"
   ]
  },
  {
   "cell_type": "code",
   "execution_count": null,
   "metadata": {},
   "outputs": [],
   "source": []
  }
 ],
 "metadata": {
  "kernelspec": {
   "display_name": "Python 3",
   "language": "python",
   "name": "python3"
  },
  "language_info": {
   "codemirror_mode": {
    "name": "ipython",
    "version": 3
   },
   "file_extension": ".py",
   "mimetype": "text/x-python",
   "name": "python",
   "nbconvert_exporter": "python",
   "pygments_lexer": "ipython3",
   "version": "3.6.8"
  }
 },
 "nbformat": 4,
 "nbformat_minor": 2
}
